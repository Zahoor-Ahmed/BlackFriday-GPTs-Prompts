{
  "nbformat": 4,
  "nbformat_minor": 0,
  "metadata": {
    "colab": {
      "provenance": [],
      "authorship_tag": "ABX9TyPFIXIqOhBS5a3GdDt8oSHy",
      "include_colab_link": true
    },
    "kernelspec": {
      "name": "python3",
      "display_name": "Python 3"
    },
    "language_info": {
      "name": "python"
    }
  },
  "cells": [
    {
      "cell_type": "markdown",
      "metadata": {
        "id": "view-in-github",
        "colab_type": "text"
      },
      "source": [
        "<a href=\"https://colab.research.google.com/github/Zahoor-Ahmed/BlackFriday-GPTs-Prompts/blob/main/Data_Wrangling.ipynb\" target=\"_parent\"><img src=\"https://colab.research.google.com/assets/colab-badge.svg\" alt=\"Open In Colab\"/></a>"
      ]
    },
    {
      "cell_type": "markdown",
      "source": [
        "# 📊 What is the Data Analysis Process?\n",
        "\n",
        "The data analysis process is a structured sequence of steps used to extract meaningful insights from data. It helps transform raw data into actionable knowledge.\n",
        "\n",
        "**🔄 Key Steps in the Data Analysis Process:**\n",
        "\n",
        "* Ask Questions\n",
        "* Data Wrangling\n",
        "* Perform EDA (Exploratory Data Analysis)\n",
        "* Draw Conclusions\n",
        "* Communicate Results\n",
        "\n",
        "\n",
        "**1. Ask Questions**\n",
        "\n",
        "Ask Questions → about data (You already have data and want to explore it)\n",
        "Ask Questions → for data (You want to gather data to answer specific questions)\n",
        "\n",
        "**2. Data Wrangling**\n",
        "Data wrangling is CAC which stands for:\n",
        "\n",
        "* Collection\n",
        "* Assessment\n",
        "* Cleaning\n",
        "\n",
        "The literal meaning of “wrangling” is:\n",
        "\n",
        "    `To handle, manage, or control something — often with effort or struggle.`\n",
        "\n",
        "The purpose of wrangling is basically to have a clean data. Here collection and assessment are just prerequits for the cleaning process. Also sometimes we can use certains techniques at the time of collection to get a better/clean form of data."
      ],
      "metadata": {
        "id": "lGn5VGSP1rDv"
      }
    },
    {
      "cell_type": "code",
      "source": [],
      "metadata": {
        "id": "28nivXzB37EA"
      },
      "execution_count": null,
      "outputs": []
    }
  ]
}